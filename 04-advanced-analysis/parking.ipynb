{
 "cells": [
  {
   "cell_type": "code",
   "execution_count": 21,
   "metadata": {
    "collapsed": true
   },
   "outputs": [],
   "source": [
    "# First we must import pandas, a data analysis module for python\n",
    "# See: https://pandas.pydata.org/pandas-docs/stable/10min.html\n",
    "import pandas as pd"
   ]
  },
  {
   "cell_type": "code",
   "execution_count": 22,
   "metadata": {},
   "outputs": [
    {
     "name": "stdout",
     "output_type": "stream",
     "text": [
      "<class 'pandas.core.frame.DataFrame'>\n",
      "RangeIndex: 31086 entries, 0 to 31085\n",
      "Data columns (total 5 columns):\n",
      "ISSUE DATE                31086 non-null object\n",
      "ISSUE TIME                31050 non-null object\n",
      "FINE AMOUNT               31086 non-null object\n",
      "TICKET LOCATION STREET    31086 non-null object\n",
      "VIOLATION DESCRIPTION     31086 non-null object\n",
      "dtypes: object(5)\n",
      "memory usage: 1.2+ MB\n"
     ]
    }
   ],
   "source": [
    "# \"Import\" data into pandas\n",
    "# See: https://pandas.pydata.org/pandas-docs/stable/generated/pandas.read_csv.html\n",
    "citations = pd.read_csv('citations.csv')\n",
    "\n",
    "# Get snapshot of the data\n",
    "citations.info()"
   ]
  },
  {
   "cell_type": "code",
   "execution_count": 23,
   "metadata": {},
   "outputs": [
    {
     "data": {
      "text/html": [
       "<div>\n",
       "<style>\n",
       "    .dataframe thead tr:only-child th {\n",
       "        text-align: right;\n",
       "    }\n",
       "\n",
       "    .dataframe thead th {\n",
       "        text-align: left;\n",
       "    }\n",
       "\n",
       "    .dataframe tbody tr th {\n",
       "        vertical-align: top;\n",
       "    }\n",
       "</style>\n",
       "<table border=\"1\" class=\"dataframe\">\n",
       "  <thead>\n",
       "    <tr style=\"text-align: right;\">\n",
       "      <th></th>\n",
       "      <th>ISSUE DATE</th>\n",
       "      <th>ISSUE TIME</th>\n",
       "      <th>FINE AMOUNT</th>\n",
       "      <th>TICKET LOCATION STREET</th>\n",
       "      <th>VIOLATION DESCRIPTION</th>\n",
       "    </tr>\n",
       "  </thead>\n",
       "  <tbody>\n",
       "    <tr>\n",
       "      <th>0</th>\n",
       "      <td>1/4/2015</td>\n",
       "      <td>2:08</td>\n",
       "      <td>$45.00</td>\n",
       "      <td>0</td>\n",
       "      <td>RESERVED SPACE</td>\n",
       "    </tr>\n",
       "    <tr>\n",
       "      <th>1</th>\n",
       "      <td>1/5/2015</td>\n",
       "      <td>10:38</td>\n",
       "      <td>$20.00</td>\n",
       "      <td>13TH AVE METERS</td>\n",
       "      <td>OVERTIME STREET MTR</td>\n",
       "    </tr>\n",
       "    <tr>\n",
       "      <th>2</th>\n",
       "      <td>1/5/2015</td>\n",
       "      <td>10:39</td>\n",
       "      <td>$20.00</td>\n",
       "      <td>13TH AVE METERS</td>\n",
       "      <td>OVERTIME STREET MTR</td>\n",
       "    </tr>\n",
       "    <tr>\n",
       "      <th>3</th>\n",
       "      <td>1/5/2015</td>\n",
       "      <td>12:26</td>\n",
       "      <td>$30.00</td>\n",
       "      <td>15TH AVE</td>\n",
       "      <td>NO PERMIT DISPLAYED</td>\n",
       "    </tr>\n",
       "    <tr>\n",
       "      <th>4</th>\n",
       "      <td>1/5/2015</td>\n",
       "      <td>12:27</td>\n",
       "      <td>$30.00</td>\n",
       "      <td>15TH AVE</td>\n",
       "      <td>NO PERMIT DISPLAYED</td>\n",
       "    </tr>\n",
       "    <tr>\n",
       "      <th>5</th>\n",
       "      <td>1/5/2015</td>\n",
       "      <td>12:29</td>\n",
       "      <td>$30.00</td>\n",
       "      <td>15TH AVE</td>\n",
       "      <td>NO PERMIT DISPLAYED</td>\n",
       "    </tr>\n",
       "    <tr>\n",
       "      <th>6</th>\n",
       "      <td>1/5/2015</td>\n",
       "      <td>12:31</td>\n",
       "      <td>$30.00</td>\n",
       "      <td>15TH AVE</td>\n",
       "      <td>NO PERMIT DISPLAYED</td>\n",
       "    </tr>\n",
       "    <tr>\n",
       "      <th>7</th>\n",
       "      <td>1/5/2015</td>\n",
       "      <td>12:32</td>\n",
       "      <td>$35.00</td>\n",
       "      <td>15TH AVE</td>\n",
       "      <td>RESTRICTED AREA</td>\n",
       "    </tr>\n",
       "    <tr>\n",
       "      <th>8</th>\n",
       "      <td>1/5/2015</td>\n",
       "      <td>12:33</td>\n",
       "      <td>$30.00</td>\n",
       "      <td>15TH AVE</td>\n",
       "      <td>NO PERMIT DISPLAYED</td>\n",
       "    </tr>\n",
       "    <tr>\n",
       "      <th>9</th>\n",
       "      <td>1/5/2015</td>\n",
       "      <td>12:36</td>\n",
       "      <td>$20.00</td>\n",
       "      <td>15TH AVE</td>\n",
       "      <td>OVERTIME LOT METER</td>\n",
       "    </tr>\n",
       "    <tr>\n",
       "      <th>10</th>\n",
       "      <td>1/5/2015</td>\n",
       "      <td>12:37</td>\n",
       "      <td>$20.00</td>\n",
       "      <td>15TH AVE</td>\n",
       "      <td>OVERTIME LOT METER</td>\n",
       "    </tr>\n",
       "    <tr>\n",
       "      <th>11</th>\n",
       "      <td>1/5/2015</td>\n",
       "      <td>12:41</td>\n",
       "      <td>$20.00</td>\n",
       "      <td>15TH AVE</td>\n",
       "      <td>OVERTIME LOT METER</td>\n",
       "    </tr>\n",
       "    <tr>\n",
       "      <th>12</th>\n",
       "      <td>1/5/2015</td>\n",
       "      <td>14:14</td>\n",
       "      <td>$30.00</td>\n",
       "      <td>1715 FRANKLIN</td>\n",
       "      <td>NO PERMIT DISPLAYED</td>\n",
       "    </tr>\n",
       "    <tr>\n",
       "      <th>13</th>\n",
       "      <td>1/5/2015</td>\n",
       "      <td>15:05</td>\n",
       "      <td>$0.00</td>\n",
       "      <td>CARSON HALL</td>\n",
       "      <td>WARNING/NO CHARGE</td>\n",
       "    </tr>\n",
       "    <tr>\n",
       "      <th>14</th>\n",
       "      <td>1/5/2015</td>\n",
       "      <td>8:49</td>\n",
       "      <td>$20.00</td>\n",
       "      <td>LOT 12A - ONYX-LAWRENCE</td>\n",
       "      <td>OVERTIME LOT METER</td>\n",
       "    </tr>\n",
       "  </tbody>\n",
       "</table>\n",
       "</div>"
      ],
      "text/plain": [
       "   ISSUE DATE ISSUE TIME FINE AMOUNT   TICKET LOCATION STREET  \\\n",
       "0    1/4/2015       2:08      $45.00                        0   \n",
       "1    1/5/2015      10:38      $20.00          13TH AVE METERS   \n",
       "2    1/5/2015      10:39      $20.00          13TH AVE METERS   \n",
       "3    1/5/2015      12:26      $30.00                 15TH AVE   \n",
       "4    1/5/2015      12:27      $30.00                 15TH AVE   \n",
       "5    1/5/2015      12:29      $30.00                 15TH AVE   \n",
       "6    1/5/2015      12:31      $30.00                 15TH AVE   \n",
       "7    1/5/2015      12:32      $35.00                 15TH AVE   \n",
       "8    1/5/2015      12:33      $30.00                 15TH AVE   \n",
       "9    1/5/2015      12:36      $20.00                 15TH AVE   \n",
       "10   1/5/2015      12:37      $20.00                 15TH AVE   \n",
       "11   1/5/2015      12:41      $20.00                 15TH AVE   \n",
       "12   1/5/2015      14:14      $30.00            1715 FRANKLIN   \n",
       "13   1/5/2015      15:05       $0.00              CARSON HALL   \n",
       "14   1/5/2015       8:49      $20.00  LOT 12A - ONYX-LAWRENCE   \n",
       "\n",
       "   VIOLATION DESCRIPTION  \n",
       "0         RESERVED SPACE  \n",
       "1    OVERTIME STREET MTR  \n",
       "2    OVERTIME STREET MTR  \n",
       "3    NO PERMIT DISPLAYED  \n",
       "4    NO PERMIT DISPLAYED  \n",
       "5    NO PERMIT DISPLAYED  \n",
       "6    NO PERMIT DISPLAYED  \n",
       "7        RESTRICTED AREA  \n",
       "8    NO PERMIT DISPLAYED  \n",
       "9     OVERTIME LOT METER  \n",
       "10    OVERTIME LOT METER  \n",
       "11    OVERTIME LOT METER  \n",
       "12   NO PERMIT DISPLAYED  \n",
       "13     WARNING/NO CHARGE  \n",
       "14    OVERTIME LOT METER  "
      ]
     },
     "execution_count": 23,
     "metadata": {},
     "output_type": "execute_result"
    }
   ],
   "source": [
    "# Get the first few rows\n",
    "citations.head(15)"
   ]
  },
  {
   "cell_type": "code",
   "execution_count": 24,
   "metadata": {
    "scrolled": false
   },
   "outputs": [
    {
     "data": {
      "text/html": [
       "<div>\n",
       "<style>\n",
       "    .dataframe thead tr:only-child th {\n",
       "        text-align: right;\n",
       "    }\n",
       "\n",
       "    .dataframe thead th {\n",
       "        text-align: left;\n",
       "    }\n",
       "\n",
       "    .dataframe tbody tr th {\n",
       "        vertical-align: top;\n",
       "    }\n",
       "</style>\n",
       "<table border=\"1\" class=\"dataframe\">\n",
       "  <thead>\n",
       "    <tr style=\"text-align: right;\">\n",
       "      <th></th>\n",
       "      <th>ISSUE DATE</th>\n",
       "      <th>ISSUE TIME</th>\n",
       "      <th>FINE AMOUNT</th>\n",
       "      <th>TICKET LOCATION STREET</th>\n",
       "      <th>VIOLATION DESCRIPTION</th>\n",
       "    </tr>\n",
       "  </thead>\n",
       "  <tbody>\n",
       "    <tr>\n",
       "      <th>count</th>\n",
       "      <td>31086</td>\n",
       "      <td>31050</td>\n",
       "      <td>31086</td>\n",
       "      <td>31086</td>\n",
       "      <td>31086</td>\n",
       "    </tr>\n",
       "    <tr>\n",
       "      <th>unique</th>\n",
       "      <td>626</td>\n",
       "      <td>1137</td>\n",
       "      <td>15</td>\n",
       "      <td>429</td>\n",
       "      <td>47</td>\n",
       "    </tr>\n",
       "    <tr>\n",
       "      <th>top</th>\n",
       "      <td>10/3/2016</td>\n",
       "      <td>10:34</td>\n",
       "      <td>$20.00</td>\n",
       "      <td>UNIVERSITY ST METERS</td>\n",
       "      <td>OVERTIME STREET MTR</td>\n",
       "    </tr>\n",
       "    <tr>\n",
       "      <th>freq</th>\n",
       "      <td>178</td>\n",
       "      <td>113</td>\n",
       "      <td>12355</td>\n",
       "      <td>5933</td>\n",
       "      <td>7415</td>\n",
       "    </tr>\n",
       "  </tbody>\n",
       "</table>\n",
       "</div>"
      ],
      "text/plain": [
       "       ISSUE DATE ISSUE TIME FINE AMOUNT TICKET LOCATION STREET  \\\n",
       "count       31086      31050       31086                  31086   \n",
       "unique        626       1137          15                    429   \n",
       "top     10/3/2016      10:34      $20.00   UNIVERSITY ST METERS   \n",
       "freq          178        113       12355                   5933   \n",
       "\n",
       "       VIOLATION DESCRIPTION  \n",
       "count                  31086  \n",
       "unique                    47  \n",
       "top      OVERTIME STREET MTR  \n",
       "freq                    7415  "
      ]
     },
     "execution_count": 24,
     "metadata": {},
     "output_type": "execute_result"
    }
   ],
   "source": [
    "# Show a quick description of the data\n",
    "citations.describe()"
   ]
  },
  {
   "cell_type": "code",
   "execution_count": 28,
   "metadata": {},
   "outputs": [
    {
     "name": "stdout",
     "output_type": "stream",
     "text": [
      "<class 'pandas.core.frame.DataFrame'>\n",
      "RangeIndex: 31086 entries, 0 to 31085\n",
      "Data columns (total 5 columns):\n",
      "ISSUE DATE                31086 non-null datetime64[ns]\n",
      "ISSUE TIME                31050 non-null object\n",
      "FINE AMOUNT               31086 non-null object\n",
      "TICKET LOCATION STREET    31086 non-null object\n",
      "VIOLATION DESCRIPTION     31086 non-null object\n",
      "dtypes: datetime64[ns](1), object(4)\n",
      "memory usage: 1.2+ MB\n"
     ]
    }
   ],
   "source": [
    "# Convert column from plain text to datetime\n",
    "citations['ISSUE DATE'] = pd.to_datetime(citations['ISSUE DATE'])\n",
    "# Check column type now\n",
    "citations.info()"
   ]
  },
  {
   "cell_type": "code",
   "execution_count": 29,
   "metadata": {},
   "outputs": [
    {
     "data": {
      "text/plain": [
       "count                   31086\n",
       "unique                    626\n",
       "top       2016-10-03 00:00:00\n",
       "freq                      178\n",
       "first     2015-01-04 00:00:00\n",
       "last      2017-03-13 00:00:00\n",
       "Name: ISSUE DATE, dtype: object"
      ]
     },
     "execution_count": 29,
     "metadata": {},
     "output_type": "execute_result"
    }
   ],
   "source": [
    "# Check max and min now\n",
    "citations['ISSUE DATE'].describe()"
   ]
  },
  {
   "cell_type": "code",
   "execution_count": 30,
   "metadata": {
    "scrolled": true
   },
   "outputs": [
    {
     "data": {
      "text/plain": [
       "count                   14049\n",
       "unique                    291\n",
       "top       2016-04-29 00:00:00\n",
       "freq                      123\n",
       "first     2015-07-01 00:00:00\n",
       "last      2016-06-30 00:00:00\n",
       "Name: ISSUE DATE, dtype: object"
      ]
     },
     "execution_count": 30,
     "metadata": {},
     "output_type": "execute_result"
    }
   ],
   "source": [
    "# Remove dates before outside of FY 2015-16\n",
    "# See: https://stackoverflow.com/a/27360130\n",
    "citations = citations.drop(citations[citations['ISSUE DATE'] < '7-1-2015'].index).drop(citations[citations['ISSUE DATE'] > '6-30-2016'].index)\n",
    "# Check max and min now\n",
    "citations['ISSUE DATE'].describe()"
   ]
  },
  {
   "cell_type": "code",
   "execution_count": 34,
   "metadata": {},
   "outputs": [
    {
     "data": {
      "text/plain": [
       "UNIVERSITY ST METERS         2672\n",
       "LOT 16A - FAC/STAFF LOT      1300\n",
       "15TH AVE                      883\n",
       "LOT 29A - EMU VIS LOT         578\n",
       "LOT 12A - ONYX-LAWRENCE       560\n",
       "13TH AVE METERS               558\n",
       "LOT 15 - JAQUA                480\n",
       "LOT 17 - HEDCO                477\n",
       "LOT 56 - MILLRACE             403\n",
       "LOT 42 - 12TH W OF KIN        377\n",
       "LOT 18 - EDUCATION            266\n",
       "LOT 44 - GRAD VILLAGE         248\n",
       "LOT 36A - CARSON              244\n",
       "SPENCER VIEW APTS             222\n",
       "LOT 33 - BEAN EAST            218\n",
       "LOT 55 - MOSS ST              216\n",
       "LOT 37 - HAMILTON E           214\n",
       "LOT 50 - BARNHART             214\n",
       "LOT 34E - GLOBAL SCHOLARS     201\n",
       "LOT 46 - MOSS CONNECT         191\n",
       "LOT 19 - HEDCO/CSB            168\n",
       "LOT 13 - 13TH BEECH-UNIV      163\n",
       "15TH AVE METERS               137\n",
       "LOT 6A - 11TH/KINCAID         135\n",
       "LOT 58 - 1715 FRANKLIN        126\n",
       "LOT 30 - MCCT                 126\n",
       "LOT 99 - COL. GARAGE          108\n",
       "LOT 52 - UOPD EAST             95\n",
       "LOT 3A - AAA AREA              89\n",
       "LOT 36B - STU HEALTH           85\n",
       "                             ... \n",
       "1455 - 15TH ST                  1\n",
       "1320 BEACH                      1\n",
       "STRAUB SOUTH                    1\n",
       "LAW SOUTH                       1\n",
       "MOON LEE                        1\n",
       "21                              1\n",
       "20                              1\n",
       "LCC NORTH                       1\n",
       "AGATE                           1\n",
       "CAMPUS OPS                      1\n",
       "EARL NE                         1\n",
       "FINE ARTS STUDIO EAST           1\n",
       "STROB                           1\n",
       "DESCHUTES                       1\n",
       "CAMPUS OPERATIONS               1\n",
       "178                             1\n",
       "H FAC SVCS SPACES               1\n",
       "13 TH CLOSED                    1\n",
       "SRC TENNIS COURT                1\n",
       "DROPPED OFF                     1\n",
       "GSH WEST                        1\n",
       "PIONER CEMETARY                 1\n",
       "AGATE STREET APARTMENTS         1\n",
       "HAYWARD FIELD 2                 1\n",
       "A ROUND WALNUT                  1\n",
       "MATHEW KNIGHT AREA EAST         1\n",
       "1790 MOSS ST                    1\n",
       "LAWRENCE NW                     1\n",
       "LLC                             1\n",
       "DUCK METERS                     1\n",
       "Name: TICKET LOCATION STREET, Length: 291, dtype: int64"
      ]
     },
     "execution_count": 34,
     "metadata": {},
     "output_type": "execute_result"
    }
   ],
   "source": [
    "# Value counts are the best!\n",
    "# See: \n",
    "citations['TICKET LOCATION STREET'].value_counts()"
   ]
  },
  {
   "cell_type": "code",
   "execution_count": 35,
   "metadata": {},
   "outputs": [
    {
     "data": {
      "text/plain": [
       "count     291.000000\n",
       "mean       48.278351\n",
       "std       198.304559\n",
       "min         1.000000\n",
       "25%         1.000000\n",
       "50%         2.000000\n",
       "75%        12.000000\n",
       "max      2672.000000\n",
       "Name: TICKET LOCATION STREET, dtype: float64"
      ]
     },
     "execution_count": 35,
     "metadata": {},
     "output_type": "execute_result"
    }
   ],
   "source": [
    "# And get some data just to be sure\n",
    "citations['TICKET LOCATION STREET'].value_counts().describe()"
   ]
  },
  {
   "cell_type": "code",
   "execution_count": null,
   "metadata": {
    "collapsed": true
   },
   "outputs": [],
   "source": [
    "# While, we know that some of the data is messy,\n",
    "# ... the top offenders are obvious. The top nine\n",
    "# ... locations above have an average of more than one\n",
    "# ... ticket per day, with University Street overwhelmingly\n",
    "# ... taking the first spot with nearly 7 tickets per day.\n",
    "\n",
    "# While this is only one fiscal year's worth of data,\n",
    "# ... it certainly gives you a start for a story."
   ]
  }
 ],
 "metadata": {
  "kernelspec": {
   "display_name": "Python 2",
   "language": "python",
   "name": "python2"
  },
  "language_info": {
   "codemirror_mode": {
    "name": "ipython",
    "version": 2
   },
   "file_extension": ".py",
   "mimetype": "text/x-python",
   "name": "python",
   "nbconvert_exporter": "python",
   "pygments_lexer": "ipython2",
   "version": "2.7.10"
  }
 },
 "nbformat": 4,
 "nbformat_minor": 2
}
